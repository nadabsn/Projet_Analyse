{
 "cells": [
  {
   "cell_type": "markdown",
   "metadata": {},
   "source": [
    "<img src='pics/projet.PNG' />"
   ]
  },
  {
   "cell_type": "markdown",
   "metadata": {},
   "source": [
    "# Introduction:\n",
    "***"
   ]
  },
  {
   "cell_type": "markdown",
   "metadata": {},
   "source": [
    "- Si f est une fonction continue sur un intervalle <strong>[a,b]</strong>, bien souvent on ne sait pas calculer une primitive de f. Ainsi, si l'on désire obtenir la valeur de cette primitive, il faut parfois se contenter d'obtenir une valeur approchée à l'aide d'une méthode d'intégration numérique.\n",
    "- La plupart des méthodes d'intégration numérique fonctionnent sur le même principe. On commence par couper le gros intervalle <strong>[a,b]</strong> en <strong>N</strong> plus petits intervalles. Puis, pour chaque intervalle <strong>[ai,ai+1]</strong>, on essaie d'approcher le primitive sur cet intervalle. "
   ]
  },
  {
   "cell_type": "markdown",
   "metadata": {},
   "source": [
    "# But:\n",
    "***"
   ]
  },
  {
   "cell_type": "markdown",
   "metadata": {},
   "source": [
    "Le but de notre projet est de réaliser une application desktop qui permet de représenter graphiquement des fonctions ainsi  que les méthodes d'intégration numériques ."
   ]
  },
  {
   "cell_type": "markdown",
   "metadata": {},
   "source": [
    ">Les méthodes d’intégrations numériques qu'on a utilisé dans notre projet sont:\n",
    ">- <strong>Méthode des réctangles</strong>\n",
    ">- <strong>Méthode du point milieu</strong>\n",
    ">- <strong>Méthode des trapèzes</strong>\n",
    ">- <strong>Méthode de Simpson</strong>"
   ]
  },
  {
   "cell_type": "markdown",
   "metadata": {},
   "source": [
    "# Partie théorique:"
   ]
  },
  {
   "cell_type": "markdown",
   "metadata": {},
   "source": [
    "# Les méthodes d'intégration numériques:\n",
    "***"
   ]
  },
  {
   "cell_type": "markdown",
   "metadata": {},
   "source": [
    "## 1-Méthode des réctangles:"
   ]
  },
  {
   "cell_type": "markdown",
   "metadata": {},
   "source": [
    "Dans cette méthode, on calcule l’intégrale numérique en réalisant une somme de surfaces de rectangles. Le domaine d’intégration est découpé en intervalles et on fait comme si la fonction restait constante sur chaque intervalle."
   ]
  },
  {
   "cell_type": "markdown",
   "metadata": {},
   "source": [
    "Sur chaque intervalle, on réalise ainsi l’approximation suivante :"
   ]
  },
  {
   "cell_type": "markdown",
   "metadata": {},
   "source": [
    "<img src='pics/frect.JPG' />"
   ]
  },
  {
   "cell_type": "markdown",
   "metadata": {},
   "source": [
    "- **La méthode des rectangles à gauche**:"
   ]
  },
  {
   "cell_type": "markdown",
   "metadata": {},
   "source": [
    "<img src='pics/rect2.PNG' />"
   ]
  },
  {
   "cell_type": "markdown",
   "metadata": {},
   "source": [
    "- **La méthode des rectangles à droite**:"
   ]
  },
  {
   "cell_type": "markdown",
   "metadata": {},
   "source": [
    "<img src='pics/rect3.PNG' />"
   ]
  },
  {
   "cell_type": "markdown",
   "metadata": {},
   "source": [
    "## 2-Méthode des trapèzes:"
   ]
  },
  {
   "cell_type": "markdown",
   "metadata": {},
   "source": [
    "Comme son nom l’indique, cette méthode d’intégration utilise une somme de surfaces de trapèzes. Sur chaque intervalle, on réalise alors l’approximation suivante :"
   ]
  },
  {
   "cell_type": "markdown",
   "metadata": {},
   "source": [
    "<img src='pics/ftrap.JPG'/>"
   ]
  },
  {
   "cell_type": "markdown",
   "metadata": {},
   "source": [
    "<img src='pics/trap2.PNG' />"
   ]
  },
  {
   "cell_type": "markdown",
   "metadata": {},
   "source": [
    "## 3-Méthode des points milieux:"
   ]
  },
  {
   "cell_type": "markdown",
   "metadata": {},
   "source": [
    "Cette méthode utilise également le polynôme constant pour\n",
    "approximer la fonction f. Cependant, elle exploite mieux les\n",
    "symétries du problème en choisissant la valeur milieu"
   ]
  },
  {
   "cell_type": "markdown",
   "metadata": {},
   "source": [
    "<img src='pics/fpoin.JPG'/>"
   ]
  },
  {
   "cell_type": "markdown",
   "metadata": {},
   "source": [
    "<img src='pics/mil2.PNG'/>"
   ]
  },
  {
   "cell_type": "markdown",
   "metadata": {},
   "source": [
    "## 4-Méthode de Simpson:"
   ]
  },
  {
   "cell_type": "markdown",
   "metadata": {},
   "source": [
    "Pour approximer la fonction f, cette méthode utilise le polynôme de degré 2 (la parabole) qui passe par\n",
    "les trois points f0 = f(a), f1 = f((a+b)/2) et f 2 = f(b) :"
   ]
  },
  {
   "cell_type": "markdown",
   "metadata": {},
   "source": [
    "<img src='pics/fsim.JPG'/>"
   ]
  },
  {
   "cell_type": "markdown",
   "metadata": {},
   "source": [
    "# Partie pratique:\n",
    "***"
   ]
  },
  {
   "attachments": {},
   "cell_type": "markdown",
   "metadata": {},
   "source": [
    "### - **Première interface**:"
   ]
  },
  {
   "cell_type": "markdown",
   "metadata": {},
   "source": [
    "Cette interface est l'interface d'acceuil"
   ]
  },
  {
   "cell_type": "markdown",
   "metadata": {},
   "source": [
    "<img src='pics/1.PNG'/>"
   ]
  },
  {
   "cell_type": "markdown",
   "metadata": {},
   "source": [
    "### - **Deuxième interface**:"
   ]
  },
  {
   "cell_type": "markdown",
   "metadata": {},
   "source": [
    "C'est l'interface où vous pouvez configurer votre fonction. \n",
    ">- <strong>N: </strong> c'est le nombre de subdivison [0,10]\n",
    ">- <strong>A et B: </strong> sont les deux bornes\n",
    ">- <strong>xLabel: </strong> c'est le nom de l'axe des abcisses\n",
    ">- <strong>yLabel: </strong> c'est le nom de l'axe des ordonnées\n",
    "\n",
    ">- <strong>Bouton 'Select color' </strong>: Vous pouvez aussi choisir la couleur de la courbe de votre fonction\n",
    ">- <strong>Bouton 'Generate' </strong>: Ce bouton permet la simulation"
   ]
  },
  {
   "cell_type": "markdown",
   "metadata": {},
   "source": [
    "<img src='pics/2.PNG'/>"
   ]
  },
  {
   "cell_type": "markdown",
   "metadata": {},
   "source": [
    "### - **Troixième interface**:"
   ]
  },
  {
   "cell_type": "markdown",
   "metadata": {},
   "source": [
    "Si vous avez faites la configuration de votre fonction et vous cliquez sur le bouton 'Generate', la figure de votre fonction apparaitra comme cette figue ci-dessous:"
   ]
  },
  {
   "cell_type": "markdown",
   "metadata": {},
   "source": [
    "<img src='pics/3.PNG'/>"
   ]
  },
  {
   "cell_type": "markdown",
   "metadata": {},
   "source": [
    "# Perspectives:\n",
    "***"
   ]
  },
  {
   "cell_type": "markdown",
   "metadata": {},
   "source": [
    "On peut ajouter quelques autres fonctionalités à cette application:"
   ]
  },
  {
   "cell_type": "markdown",
   "metadata": {},
   "source": [
    ">- Calcul de la <strong>valeur de l'intégrale</strong> de la fonction saisie.\n",
    ">- Calcul de <strong>la dérivé</strong> de la fonction saisie."
   ]
  },
  {
   "cell_type": "code",
   "execution_count": null,
   "metadata": {},
   "outputs": [],
   "source": []
  }
 ],
 "metadata": {
  "kernelspec": {
   "display_name": "Python 3",
   "language": "python",
   "name": "python3"
  },
  "language_info": {
   "codemirror_mode": {
    "name": "ipython",
    "version": 3
   },
   "file_extension": ".py",
   "mimetype": "text/x-python",
   "name": "python",
   "nbconvert_exporter": "python",
   "pygments_lexer": "ipython3",
   "version": "3.8.3"
  }
 },
 "nbformat": 4,
 "nbformat_minor": 4
}
